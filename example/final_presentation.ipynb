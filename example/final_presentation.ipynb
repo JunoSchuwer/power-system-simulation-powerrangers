{
 "cells": [
  {
   "cell_type": "markdown",
   "id": "06d6296d-9187-4737-ab9b-b73bc0d521bc",
   "metadata": {},
   "source": [
    "# Final Presentation powerrangers\n",
    "\n",
    "This notebook presents the main features of our package."
   ]
  },
  {
   "cell_type": "markdown",
   "id": "06d6296d",
   "metadata": {},
   "source": [
    "# 1. Imports\n",
    "\n"
   ]
  },
  {
   "cell_type": "code",
   "execution_count": 5,
   "id": "b5b52833-9e5e-40c8-a268-43a2bc0c35a9",
   "metadata": {},
   "outputs": [
    {
     "ename": "ModuleNotFoundError",
     "evalue": "No module named 'src'",
     "output_type": "error",
     "traceback": [
      "\u001b[1;31m---------------------------------------------------------------------------\u001b[0m",
      "\u001b[1;31mModuleNotFoundError\u001b[0m                       Traceback (most recent call last)",
      "Cell \u001b[1;32mIn[5], line 1\u001b[0m\n\u001b[1;32m----> 1\u001b[0m \u001b[38;5;28;01mfrom\u001b[39;00m \u001b[38;5;21;01msrc\u001b[39;00m\u001b[38;5;21;01m.\u001b[39;00m\u001b[38;5;21;01mpower_system_simulation\u001b[39;00m\u001b[38;5;21;01m.\u001b[39;00m\u001b[38;5;21;01mgraph_processing\u001b[39;00m \u001b[38;5;28;01mimport\u001b[39;00m \u001b[38;5;241m*\u001b[39m\n\u001b[0;32m      2\u001b[0m \u001b[38;5;28;01mfrom\u001b[39;00m \u001b[38;5;21;01mpower_system_simulation\u001b[39;00m\u001b[38;5;21;01m.\u001b[39;00m\u001b[38;5;21;01mpgm_calculation_module\u001b[39;00m \u001b[38;5;28;01mimport\u001b[39;00m \u001b[38;5;241m*\u001b[39m\n\u001b[0;32m      3\u001b[0m \u001b[38;5;28;01mfrom\u001b[39;00m \u001b[38;5;21;01mpower_system_simulation\u001b[39;00m\u001b[38;5;21;01m.\u001b[39;00m\u001b[38;5;21;01mpgm_calculation_functions\u001b[39;00m \u001b[38;5;28;01mimport\u001b[39;00m \u001b[38;5;241m*\u001b[39m\n",
      "\u001b[1;31mModuleNotFoundError\u001b[0m: No module named 'src'"
     ]
    }
   ],
   "source": [
    "from power_system_simulation.graph_processing import *\n",
    "from power_system_simulation.pgm_calculation_module import *\n",
    "from power_system_simulation.pgm_calculation_functions import *\n"
   ]
  },
  {
   "cell_type": "markdown",
   "id": "06d6296c",
   "metadata": {},
   "source": [
    "# 2.1 Input Data\n",
    "\n"
   ]
  },
  {
   "cell_type": "code",
   "execution_count": null,
   "id": "e0cab629-eced-4033-84d2-e110bbc447bf",
   "metadata": {},
   "outputs": [],
   "source": [
    "PTH_INPUT_NETWORK_DATA = \"tests/data/small_network/input/input_network_data.json\"\n",
    "PTH_ACTIVE_PROFILE = \"tests/data/small_network/input/active_power_profile.parquet\"\n",
    "PTH_REACTIVE_PROFILE = \"tests/data/small_network/input/reactive_power_profile.parquet\"\n",
    "PTH_EV_ACTIVE_POWER_PROFILE = \"tests/data/small_network/input/ev_active_power_profile.parquet\"\n",
    "PTH_META_DATA = \"tests/data/small_network/input/meta_data.json\"\n",
    "\n",
    "#or big data:\n",
    "\"\"\"\n",
    "PTH_INPUT_NETWORK_DATA=\"C:/Users/...\"\n",
    "PTH_ACTIVE_PROFILE=\"C:/Users/...\"\n",
    "PTH_REACTIVE_PROFILE=\"C:/Users/...\"\n",
    "PTH_EV_ACTIVE_POWER_PROFILE=\"C:/Users/...\"\n",
    "PTH_META_DATA=\"C:/Users/...\"\n",
    "\"\"\""
   ]
  },
  {
   "cell_type": "markdown",
   "id": "06d6296d",
   "metadata": {},
   "source": [
    "# 2.2 Validy check\n",
    "\n"
   ]
  },
  {
   "cell_type": "code",
   "execution_count": null,
   "id": "e0cab629-eced-4033-84d2-e110bbc447be",
   "metadata": {},
   "outputs": [],
   "source": []
  },
  {
   "cell_type": "markdown",
   "id": "06d6296c",
   "metadata": {},
   "source": [
    "# 3 Graph processing\n"
   ]
  },
  {
   "cell_type": "markdown",
   "id": "06d6296c",
   "metadata": {},
   "source": [
    "# 3.1 Checking conditions\n",
    "\n"
   ]
  },
  {
   "cell_type": "code",
   "execution_count": null,
   "id": "e0cab629-eced-4033-84d2-e110bbc447bb",
   "metadata": {},
   "outputs": [],
   "source": []
  },
  {
   "cell_type": "markdown",
   "id": "06d6296c",
   "metadata": {},
   "source": [
    "# 3.2 Downstream vertices\n",
    "\n"
   ]
  },
  {
   "cell_type": "code",
   "execution_count": null,
   "id": "e0cab629-eced-4033-84d2-e110bbc447ba",
   "metadata": {},
   "outputs": [],
   "source": []
  },
  {
   "cell_type": "markdown",
   "id": "06d6296c",
   "metadata": {},
   "source": [
    "# 3.3 Alternative edges\n",
    "\n"
   ]
  },
  {
   "cell_type": "code",
   "execution_count": null,
   "id": "e0cab629-eced-4033-84d2-e110bbc447bb",
   "metadata": {},
   "outputs": [],
   "source": []
  },
  {
   "cell_type": "markdown",
   "id": "06d6296c",
   "metadata": {},
   "source": [
    "# 4 Power Grid Model\n"
   ]
  },
  {
   "cell_type": "markdown",
   "id": "06d6296c",
   "metadata": {},
   "source": [
    "# 4.1 Creating a PGM\n",
    "\n"
   ]
  },
  {
   "cell_type": "code",
   "execution_count": null,
   "id": "e0cab629-eced-4033-84d2-e110bbc447bc",
   "metadata": {},
   "outputs": [],
   "source": [
    "PGM_MODEL=PGMfunctions(PTH_INPUT_NETWORK_DATA,PTH_ACTIVE_PROFILE,PTH_REACTIVE_PROFILE,PTH_EV_ACTIVE_POWER_PROFILE,PTH_META_DATA)\n",
    "PGM_MODEL.input_data_validity_check()"
   ]
  },
  {
   "cell_type": "code",
   "execution_count": null,
   "id": "e3ed98d4",
   "metadata": {},
   "outputs": [],
   "source": [
    "PGM_MODEL.create_pgm_model()"
   ]
  },
  {
   "cell_type": "markdown",
   "id": "06d6296c",
   "metadata": {},
   "source": [
    "# 4.2 Power Flow results\n",
    "\n"
   ]
  },
  {
   "cell_type": "code",
   "execution_count": null,
   "id": "e0cab629-eced-4033-84d2-e110bbc447bd",
   "metadata": {},
   "outputs": [],
   "source": [
    "df_voltage, df_loading= PGM_MODEL.run_single_powerflow_calculation()"
   ]
  },
  {
   "cell_type": "markdown",
   "id": "06d6296c",
   "metadata": {},
   "source": [
    "# 5 Power System Simulation\n"
   ]
  },
  {
   "cell_type": "markdown",
   "id": "06d6296c",
   "metadata": {},
   "source": [
    "# 5.1 EV penetration level\n",
    "\n"
   ]
  },
  {
   "cell_type": "code",
   "execution_count": null,
   "id": "e0cab629-eced-4033-84d2-e110bbc447br",
   "metadata": {},
   "outputs": [],
   "source": [
    "PGM_MODEL.ev_penetration_level(50,assert_valid_pwr_profile=True)"
   ]
  },
  {
   "cell_type": "markdown",
   "id": "06d6296c",
   "metadata": {},
   "source": [
    "# 5.2 Optimal tap position\n",
    "\n"
   ]
  },
  {
   "cell_type": "code",
   "execution_count": null,
   "id": "e0cab629-eced-4033-84d2-e110bbc447boi",
   "metadata": {},
   "outputs": [
    {
     "ename": "NameError",
     "evalue": "name 'PGM_MODEL' is not defined",
     "output_type": "error",
     "traceback": [
      "\u001b[1;31m---------------------------------------------------------------------------\u001b[0m",
      "\u001b[1;31mNameError\u001b[0m                                 Traceback (most recent call last)",
      "Cell \u001b[1;32mIn[1], line 1\u001b[0m\n\u001b[1;32m----> 1\u001b[0m \u001b[43mPGM_MODEL\u001b[49m\u001b[38;5;241m.\u001b[39mfind_optimal_tap_position(\u001b[38;5;241m0\u001b[39m,PTH_ACTIVE_PROFILE)\n",
      "\u001b[1;31mNameError\u001b[0m: name 'PGM_MODEL' is not defined"
     ]
    }
   ],
   "source": [
    "PGM_MODEL.find_optimal_tap_position(0,PTH_ACTIVE_PROFILE)"
   ]
  },
  {
   "cell_type": "markdown",
   "id": "06d6296c",
   "metadata": {},
   "source": [
    "# 5.3 N-1 calculation\n",
    "\n"
   ]
  },
  {
   "cell_type": "code",
   "execution_count": null,
   "id": "e0cab629-eced-4033-84d2-e110bbc447bz",
   "metadata": {},
   "outputs": [],
   "source": [
    "PGM_MODEL.n_1_calculation(18,reset_model_once_done=True)"
   ]
  }
 ],
 "metadata": {
  "kernelspec": {
   "display_name": "Python 3 (ipykernel)",
   "language": "python",
   "name": "python3"
  },
  "language_info": {
   "codemirror_mode": {
    "name": "ipython",
    "version": 3
   },
   "file_extension": ".py",
   "mimetype": "text/x-python",
   "name": "python",
   "nbconvert_exporter": "python",
   "pygments_lexer": "ipython3",
   "version": "3.9.0"
  }
 },
 "nbformat": 4,
 "nbformat_minor": 5
}
