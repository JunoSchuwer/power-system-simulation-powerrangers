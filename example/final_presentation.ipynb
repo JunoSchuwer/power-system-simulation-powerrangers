{
 "cells": [
  {
   "cell_type": "markdown",
   "id": "06d6296d-9187-4737-ab9b-b73bc0d521bc",
   "metadata": {},
   "source": [
    "# Final Presentation powerrangers\n",
    "\n",
    "This notebook presents the main features of our package."
   ]
  },
  {
   "cell_type": "markdown",
   "id": "06d6296d",
   "metadata": {},
   "source": [
    "# 1. Imports\n",
    "\n"
   ]
  },
  {
   "cell_type": "code",
   "execution_count": 60,
   "id": "b5b52833-9e5e-40c8-a268-43a2bc0c35a9",
   "metadata": {},
   "outputs": [
    {
     "name": "stdout",
     "output_type": "stream",
     "text": [
      "1\n"
     ]
    }
   ],
   "source": [
    "\n",
    "#from power_system_simulation.pgm_calculation_functions import *\n"
   ]
  },
  {
   "cell_type": "markdown",
   "id": "06d6296c",
   "metadata": {},
   "source": [
    "# 2 Input Data and creating a power grid model\n"
   ]
  },
  {
   "cell_type": "code",
   "execution_count": 50,
   "id": "e0cab629-eced-4033-84d2-e110bbc447bf",
   "metadata": {},
   "outputs": [
    {
     "name": "stdout",
     "output_type": "stream",
     "text": [
      "1\n"
     ]
    }
   ],
   "source": [
    "#PTH_INPUT_NETWORK_DATA=r\"C:/Users/Maart/Documents/PGM/DATA/input_network_data.json\"\n",
    "#PTH_ACTIVE_PROFILE=r\"C:/Users/Maart/Documents/PGM/DATA/active_power_profile.parquet\"\n",
    "#PTH_REACTIVE_PROFILE=r\"C:/Users/Maart/Documents/PGM/DATA/reactive_power_profile.parquet\"\n",
    "#PTH_EV_ACTIVE_POWER_PROFILE=r\"C:/Users/Maart/Documents/PGM/DATA/ev_active_power_profile.parquet\"\n",
    "#PTH_META_DATA=r\"C:/Users/Maart/Documents/PGM/DATA/meta_data.json\"\n",
    "\n",
    "#initialize the power grid model class\n",
    "\n",
    "#GM_MODEL=PGMfunctions(PTH_INPUT_NETWORK_DATA,PTH_ACTIVE_PROFILE,PTH_REACTIVE_PROFILE,PTH_EV_ACTIVE_POWER_PROFILE,PTH_META_DATA)\n",
    "#print(1)"
   ]
  },
  {
   "cell_type": "markdown",
   "id": "9960b768",
   "metadata": {},
   "source": [
    "## 2.2 Validity check\n",
    "\n"
   ]
  },
  {
   "cell_type": "code",
   "execution_count": 51,
   "id": "e0cab629-eced-4033-84d2-e110bbc447be",
   "metadata": {
    "scrolled": true
   },
   "outputs": [],
   "source": [
    "#PGM_MODEL.input_data_validity_check()\n"
   ]
  },
  {
   "cell_type": "markdown",
   "id": "4c71294e",
   "metadata": {},
   "source": [
    "## 2.3 create power grid model"
   ]
  },
  {
   "cell_type": "code",
   "execution_count": 52,
   "id": "dff2fd26",
   "metadata": {},
   "outputs": [],
   "source": [
    "#PGM_MODEL.create_pgm_model()\n",
    "#PGM_MODEL.create_batch_update_data()"
   ]
  },
  {
   "cell_type": "markdown",
   "id": "68813351",
   "metadata": {},
   "source": [
    "# 3 Graph processing\n"
   ]
  },
  {
   "cell_type": "markdown",
   "id": "176eaded",
   "metadata": {},
   "source": [
    "# 3.1 Downstream vertices\n",
    "\n"
   ]
  },
  {
   "cell_type": "code",
   "execution_count": 53,
   "id": "e0cab629-eced-4033-84d2-e110bbc447ba",
   "metadata": {},
   "outputs": [
    {
     "name": "stdout",
     "output_type": "stream",
     "text": [
      "[np.int32(596), np.int32(598), np.int32(600), np.int32(601), np.int32(599), np.int32(597)]\n"
     ]
    }
   ],
   "source": [
    "#downsteam_vertices=PGM_MODEL.input_network_array_model.find_downstream_vertices(1798)\n",
    "#print(downsteam_vertices)"
   ]
  },
  {
   "cell_type": "markdown",
   "id": "24e88eca",
   "metadata": {},
   "source": [
    "# 3.2 Alternative edges\n",
    "\n"
   ]
  },
  {
   "cell_type": "code",
   "execution_count": 54,
   "id": "ecf29100",
   "metadata": {},
   "outputs": [
    {
     "name": "stdout",
     "output_type": "stream",
     "text": [
      "[np.int32(2008), np.int32(2009)]\n"
     ]
    }
   ],
   "source": [
    "#alternative_edges=PGM_MODEL.input_network_array_model.find_alternative_edges(1798)\n",
    "#print(alternative_edges)"
   ]
  },
  {
   "cell_type": "markdown",
   "id": "5dc47f71",
   "metadata": {},
   "source": [
    "# 4 Power Grid Model\n"
   ]
  },
  {
   "cell_type": "markdown",
   "id": "0bd6db1c",
   "metadata": {},
   "source": [
    "# 4.1 Power Flow results\n",
    "\n"
   ]
  },
  {
   "cell_type": "code",
   "execution_count": 55,
   "id": "e0cab629-eced-4033-84d2-e110bbc447bd",
   "metadata": {},
   "outputs": [
    {
     "name": "stdout",
     "output_type": "stream",
     "text": [
      "                     Max_Voltage  Max_Voltage_Node  Min_Voltage  \\\n",
      "Timestamp                                                         \n",
      "2025-01-01 00:00:00     1.074658                 1     1.049898   \n",
      "2025-01-01 00:15:00     1.074532                 1     1.049891   \n",
      "2025-01-01 00:30:00     1.074927                 1     1.049916   \n",
      "2025-01-01 00:45:00     1.074601                 1     1.049894   \n",
      "2025-01-01 01:00:00     1.074482                 1     1.049885   \n",
      "...                          ...               ...          ...   \n",
      "2025-12-31 22:45:00     1.070302                 1     1.049715   \n",
      "2025-12-31 23:00:00     1.070859                 1     1.049746   \n",
      "2025-12-31 23:15:00     1.070879                 1     1.049734   \n",
      "2025-12-31 23:30:00     1.070974                 1     1.049742   \n",
      "2025-12-31 23:45:00     1.070169                 1     1.049699   \n",
      "\n",
      "                     Min_Voltage_Node  \n",
      "Timestamp                              \n",
      "2025-01-01 00:00:00                 0  \n",
      "2025-01-01 00:15:00                 0  \n",
      "2025-01-01 00:30:00                 0  \n",
      "2025-01-01 00:45:00                 0  \n",
      "2025-01-01 01:00:00                 0  \n",
      "...                               ...  \n",
      "2025-12-31 22:45:00                 0  \n",
      "2025-12-31 23:00:00                 0  \n",
      "2025-12-31 23:15:00                 0  \n",
      "2025-12-31 23:30:00                 0  \n",
      "2025-12-31 23:45:00                 0  \n",
      "\n",
      "[35040 rows x 4 columns]\n",
      "         Total_Loss   Max_Loading Max_Loading_Timestamp   Min_Loading  \\\n",
      "Line_ID                                                                 \n",
      "1204     214.476076  5.824780e-02   2025-11-07 09:45:00  4.447163e-03   \n",
      "1205       0.736725  5.680893e-03   2025-04-07 10:30:00  4.082249e-07   \n",
      "1206     219.597895  5.442560e-02   2025-11-05 23:15:00  3.731235e-03   \n",
      "1207       0.898303  4.752569e-03   2025-05-29 02:30:00  4.118517e-07   \n",
      "1208     202.147152  5.648105e-02   2025-11-07 09:45:00  3.791173e-03   \n",
      "...             ...           ...                   ...           ...   \n",
      "2006       0.032063  2.444916e-07   2025-10-02 19:45:00  2.399379e-07   \n",
      "2007       0.031663  2.445316e-07   2025-10-08 17:45:00  2.401123e-07   \n",
      "2008       0.037419  2.444854e-07   2025-10-02 20:15:00  2.395951e-07   \n",
      "2009       0.036070  2.444597e-07   2025-08-13 05:00:00  2.398150e-07   \n",
      "2010       0.039360  2.445044e-07   2025-12-05 00:00:00  2.400471e-07   \n",
      "\n",
      "        Min_Loading_Timestamp  \n",
      "Line_ID                        \n",
      "1204      2025-10-08 12:45:00  \n",
      "1205      2025-03-04 17:15:00  \n",
      "1206      2025-10-08 12:45:00  \n",
      "1207      2025-12-29 15:30:00  \n",
      "1208      2025-10-08 12:45:00  \n",
      "...                       ...  \n",
      "2006      2025-11-05 07:30:00  \n",
      "2007      2025-11-04 22:30:00  \n",
      "2008      2025-11-07 15:00:00  \n",
      "2009      2025-11-05 23:15:00  \n",
      "2010      2025-11-05 18:30:00  \n",
      "\n",
      "[807 rows x 5 columns]\n"
     ]
    }
   ],
   "source": [
    "#df_voltage, df_loading= PGM_MODEL.run_single_powerflow_calculation()\n",
    "#print(df_voltage)\n",
    "#print(df_loading)"
   ]
  },
  {
   "cell_type": "markdown",
   "id": "c9b02b7a",
   "metadata": {},
   "source": [
    "# 5 Power System Simulation\n"
   ]
  },
  {
   "cell_type": "markdown",
   "id": "be77cf35",
   "metadata": {},
   "source": [
    "# 5.1 EV penetration level\n",
    "\n"
   ]
  },
  {
   "cell_type": "code",
   "execution_count": 56,
   "id": "e0cab629-eced-4033-84d2-e110bbc447br",
   "metadata": {},
   "outputs": [
    {
     "name": "stdout",
     "output_type": "stream",
     "text": [
      "(                     Max_Voltage  Max_Voltage_Node  Min_Voltage  \\\n",
      "Timestamp                                                         \n",
      "2025-01-01 00:00:00     1.076629               301     1.049970   \n",
      "2025-01-01 00:15:00     1.076629               301     1.049970   \n",
      "2025-01-01 00:30:00     1.076629               301     1.049970   \n",
      "2025-01-01 00:45:00     1.076629               301     1.049970   \n",
      "2025-01-01 01:00:00     1.076480               301     1.049965   \n",
      "...                          ...               ...          ...   \n",
      "2025-12-31 22:45:00     1.076009               301     1.049948   \n",
      "2025-12-31 23:00:00     1.075694               301     1.049937   \n",
      "2025-12-31 23:15:00     1.075692               301     1.049937   \n",
      "2025-12-31 23:30:00     1.075067               301     1.049913   \n",
      "2025-12-31 23:45:00     1.075053               301     1.049913   \n",
      "\n",
      "                     Min_Voltage_Node  \n",
      "Timestamp                              \n",
      "2025-01-01 00:00:00                 0  \n",
      "2025-01-01 00:15:00                 0  \n",
      "2025-01-01 00:30:00                 0  \n",
      "2025-01-01 00:45:00                 0  \n",
      "2025-01-01 01:00:00                 0  \n",
      "...                               ...  \n",
      "2025-12-31 22:45:00                 0  \n",
      "2025-12-31 23:00:00                 0  \n",
      "2025-12-31 23:15:00                 0  \n",
      "2025-12-31 23:30:00                 0  \n",
      "2025-12-31 23:45:00                 0  \n",
      "\n",
      "[35040 rows x 4 columns],          Total_Loss   Max_Loading Max_Loading_Timestamp   Min_Loading  \\\n",
      "Line_ID                                                                 \n",
      "1204       6.576305  5.010748e-02   2025-12-26 21:30:00  2.399836e-05   \n",
      "1205       0.949948  1.537487e-02   2025-07-07 17:15:00  4.193404e-07   \n",
      "1206       6.655492  4.703710e-02   2025-12-26 21:30:00  2.208683e-05   \n",
      "1207       0.038735  4.218033e-07   2025-01-01 00:00:00  4.192070e-07   \n",
      "1208       6.379900  4.906886e-02   2025-12-26 21:30:00  2.251666e-05   \n",
      "...             ...           ...                   ...           ...   \n",
      "2006       0.032530  2.449873e-07   2025-01-01 00:00:00  2.422567e-07   \n",
      "2007       0.032118  2.449873e-07   2025-01-01 00:00:00  2.415304e-07   \n",
      "2008       0.037958  2.449873e-07   2025-01-01 00:00:00  2.400801e-07   \n",
      "2009       0.036604  2.449873e-07   2025-01-01 00:00:00  2.392437e-07   \n",
      "2010       0.039918  2.449873e-07   2025-01-01 00:00:00  2.414114e-07   \n",
      "\n",
      "        Min_Loading_Timestamp  \n",
      "Line_ID                        \n",
      "1204      2025-12-25 19:00:00  \n",
      "1205      2025-04-21 22:15:00  \n",
      "1206      2025-12-25 19:00:00  \n",
      "1207      2025-04-21 22:15:00  \n",
      "1208      2025-12-25 19:00:00  \n",
      "...                       ...  \n",
      "2006      2025-05-19 17:15:00  \n",
      "2007      2025-05-29 17:00:00  \n",
      "2008      2025-04-21 22:15:00  \n",
      "2009      2025-04-21 22:15:00  \n",
      "2010      2025-05-29 16:30:00  \n",
      "\n",
      "[807 rows x 5 columns])\n"
     ]
    }
   ],
   "source": [
    "#ev_pen=PGM_MODEL.ev_penetration_level(50,assert_valid_pwr_profile=True)\n",
    "#print(ev_pen)"
   ]
  },
  {
   "cell_type": "markdown",
   "id": "fe041cbd",
   "metadata": {},
   "source": [
    "# 5.2 Optimal tap position\n",
    "\n"
   ]
  },
  {
   "cell_type": "code",
   "execution_count": 57,
   "id": "e0cab629-eced-4033-84d2-e110bbc447boi",
   "metadata": {},
   "outputs": [
    {
     "name": "stdout",
     "output_type": "stream",
     "text": [
      "1\n"
     ]
    }
   ],
   "source": [
    "#optimal_tap_mode0=PGM_MODEL.find_optimal_tap_position(0,PTH_ACTIVE_PROFILE)\n",
    "\n",
    "#print(\"optimal tap position is\", optimal_tap_mode0)"
   ]
  },
  {
   "cell_type": "code",
   "execution_count": 58,
   "id": "38cc4c8e",
   "metadata": {},
   "outputs": [
    {
     "name": "stdout",
     "output_type": "stream",
     "text": [
      "5\n"
     ]
    }
   ],
   "source": [
    "#optimal_tap_mode1=PGM_MODEL.find_optimal_tap_position(1,PTH_ACTIVE_PROFILE)\n",
    "#print(\"optimal tap position is\", optimal_tap_mode1)"
   ]
  },
  {
   "cell_type": "markdown",
   "id": "6117183b",
   "metadata": {},
   "source": [
    "# 5.3 N-1 calculation\n",
    "\n"
   ]
  },
  {
   "cell_type": "code",
   "execution_count": 59,
   "id": "e0cab629-eced-4033-84d2-e110bbc447bz",
   "metadata": {},
   "outputs": [
    {
     "name": "stdout",
     "output_type": "stream",
     "text": [
      "                     Max_Loading  Max_Loading_Line_ID Max_Loading_Timestamp\n",
      "Alternative_Line_ID                                                        \n",
      "2008                    0.072063                 1612   2025-11-07 15:00:00\n",
      "2009                    0.069726                 1906   2025-11-05 06:45:00\n"
     ]
    }
   ],
   "source": [
    "#N_1=PGM_MODEL.n_1_calculation(1798, reset_model_once_done=True)\n",
    "#print(N_1)"
   ]
  }
 ],
 "metadata": {
  "kernelspec": {
   "display_name": "Python 3 (ipykernel)",
   "language": "python",
   "name": "python3"
  },
  "language_info": {
   "codemirror_mode": {
    "name": "ipython",
    "version": 3
   },
   "file_extension": ".py",
   "mimetype": "text/x-python",
   "name": "python",
   "nbconvert_exporter": "python",
   "pygments_lexer": "ipython3",
   "version": "3.12.3"
  }
 },
 "nbformat": 4,
 "nbformat_minor": 5
}
